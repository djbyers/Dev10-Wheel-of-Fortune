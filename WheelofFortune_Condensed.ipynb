{
 "cells": [
  {
   "cell_type": "code",
   "execution_count": 292,
   "id": "054a08ba-936c-447f-acc4-6e61cd149afc",
   "metadata": {},
   "outputs": [],
   "source": [
    "#Store the word in an answer variable in all upper() case\n",
    "\n",
    "answer1 = \"Nashville\".upper()\n",
    "\n",
    "#Store hint\n",
    "\n",
    "hint1 = \"American Sports Cities\"\n",
    "\n",
    "#Store guessed word as a mask of underscores\n",
    "\n",
    "guessed1 = list(\"_\" * len(answer1))"
   ]
  },
  {
   "cell_type": "code",
   "execution_count": 293,
   "id": "b0ca3e81-7ccd-45ee-a598-8af3ba99849e",
   "metadata": {},
   "outputs": [],
   "source": [
    "#Store the word in an answer variable in all upper() case\n",
    "\n",
    "answer2 = \"Djibouti\".upper()\n",
    "\n",
    "#Store hint\n",
    "\n",
    "hint2 = \"African Countries\"\n",
    "\n",
    "#Store guessed word as a mask of underscores\n",
    "\n",
    "guessed2 = list(\"_\" * len(answer2))"
   ]
  },
  {
   "cell_type": "code",
   "execution_count": 294,
   "id": "6046e75e-8a3b-490f-aaf8-e637349f795e",
   "metadata": {},
   "outputs": [],
   "source": [
    "answer_list = [answer1, answer2]\n",
    "hint_list = [hint1, hint2]\n",
    "guessed_list = [guessed1, guessed2]"
   ]
  },
  {
   "cell_type": "code",
   "execution_count": 295,
   "id": "03d69887-cc58-420d-9571-0765e536552b",
   "metadata": {},
   "outputs": [],
   "source": [
    "#Create player dictionary and score list\n",
    "\n",
    "player_dict = {\n",
    "    \"player1\": 0,\n",
    "    \"player2\": 0,\n",
    "    \"player3\": 0\n",
    "}\n",
    "\n",
    "player_score = [0,0,0]\n",
    "index_list = [0,1,2]"
   ]
  },
  {
   "cell_type": "code",
   "execution_count": 296,
   "id": "801ff65f-e699-4437-aa9d-57b374b55a01",
   "metadata": {},
   "outputs": [],
   "source": [
    "#Create spin function\n",
    "\n",
    "import random\n",
    "\n",
    "def spin():\n",
    "    wheel = [\"Bankrupt\", \"Lose a Turn\", 100, 100, 150, 200, 200, 250, 300, 300, 350, 400, 400, 450, 500, 500, 550, 600, 650, 700, 750, 800, 850, 900]\n",
    "    result = random.choice(wheel)\n",
    "    return result\n",
    "    print(result)"
   ]
  },
  {
   "cell_type": "code",
   "execution_count": 297,
   "id": "377fcafd-063e-4243-ab6e-9b6055e1a196",
   "metadata": {},
   "outputs": [],
   "source": [
    "#Create vowel list\n",
    "\n",
    "vowels = [\"A\",\"E\",\"I\",\"O\",\"U\"]\n"
   ]
  },
  {
   "cell_type": "code",
   "execution_count": 298,
   "id": "5ff39b2d-78c2-4eea-a6c6-8079515aab65",
   "metadata": {},
   "outputs": [],
   "source": [
    "\n",
    "def gameRound(answer, guessed):\n",
    "    word_guessed = False\n",
    "    while word_guessed == False:\n",
    "        for index in index_list : \n",
    "            print(f\"Player {index + 1}, your turn.\")\n",
    "            print(player_dict)\n",
    "            #Ask the player if they want to solve the puzzle or spin:\n",
    "            question = str(input(\"Attempt to solve the puzzle or type 'spin':\")).upper()\n",
    "\n",
    "            #If the player wants to spin\n",
    "            if question == \"spin\".upper():\n",
    "                result = spin()\n",
    "                if result == \"Bankrupt\":\n",
    "                    print(\"You spun Bankrupt!\")\n",
    "                    player_dict[f\"player{index+1}\"] = 0\n",
    "                    print(player_dict)\n",
    "                    #Turn ends here\n",
    "                    continue\n",
    "                elif result == \"Lose a Turn\":\n",
    "                    print(\"You spun Lose a Turn!\")\n",
    "                    print(player_dict)\n",
    "                    #Turn ends here\n",
    "                    continue\n",
    "                else: \n",
    "                    print(f\"You spun ${result}!\")\n",
    "                    guess = str(input(\"Guess a consenant:\")).upper()\n",
    "                    #Make sure guess isn't a vowel\n",
    "                    if guess in vowels:\n",
    "                        print(\"That is not a consenant. Try again:\")\n",
    "                        continue\n",
    "                    if guess in answer:\n",
    "                        print(f\"{guess} is in the word.\")\n",
    "                        #Add correct value to score\n",
    "                        player_score[index] = player_score[index] + result*answer.count(guess)\n",
    "                        player_dict[f\"player{index+1}\"] = player_score[index]\n",
    "                        #Reveal letters\n",
    "                        for counter in range(0,len(answer)):\n",
    "                            if answer[counter] == guess:\n",
    "                                guessed[counter] = guess\n",
    "                        print(f\"The word guessed so far is {' '.join(guessed)}.\")\n",
    "                        print(player_dict)\n",
    "                        if ''.join(guessed)== answer:\n",
    "                            print(f\"The word is {answer}. You win this round!\")\n",
    "                            player_score[index] = player_score[index] + 500\n",
    "                            player_dict[f\"player{index+1}\"] = player_score[index]\n",
    "                            print(player_dict)\n",
    "                            word_guessed = True\n",
    "                            continue\n",
    "                            #After a correct letter, either buy a vowel, solve, or end turn\n",
    "                        turn = str(input(\"Type 'vowel' to buy a vowel, 'pass' to end your turn, or guess the answer:\")).upper()\n",
    "                        if turn == \"vowel\".upper():\n",
    "                            #can only buy a vowel if the bank is at least 250\n",
    "                            if player_score[index] <250:\n",
    "                                print(\"I'm sorry, you cannot afford a vowel.\")\n",
    "                                #Can still try to solve here\n",
    "                                sovle = str(input(\"Type 'pass' to end your turn or guess the answer:\")).upper()\n",
    "                                if solve == \"pass\".upper():\n",
    "                                    continue\n",
    "                                else:\n",
    "                                    if solve == answer:\n",
    "                                        print(f\"The word is {answer}. You win this round!\")\n",
    "                                        player_score[index] = player_score[index] + 500\n",
    "                                        player_dict[f\"player{index+1}\"] = player_score[index]\n",
    "                                        print(player_dict)\n",
    "                                        guessed = answer\n",
    "                                        word_guessed = True\n",
    "                                        break\n",
    "                                    else:\n",
    "                                        print(f\"{solve} is not the answer.\")\n",
    "                                        continue\n",
    "                            else:\n",
    "                                vow = str(input(\"Guess a vowel:\")).upper()\n",
    "                                #Make sure vowel is a vowel\n",
    "                                if vow not in vowels:\n",
    "                                    print(\"That is now a vowel.\")\n",
    "                                    continue\n",
    "                                else:\n",
    "                                    #Subtract cost of vowel\n",
    "                                    player_score[index] = player_score[index] - 250\n",
    "                                    player_dict[f\"player{index+1}\"] = player_score[index]\n",
    "                                    #Reveal letter\n",
    "                                    if vow in answer:\n",
    "                                        print(f\"{vow} is in the word\")\n",
    "                                        for counter in range(0,len(answer)):\n",
    "                                            if answer[counter] == vow:\n",
    "                                                guessed[counter] = vow\n",
    "                                        print(f\"The word guessed so far is {' '.join(guessed)}.\")\n",
    "                                        print(player_dict)\n",
    "                                        if ''.join(guessed)== answer:\n",
    "                                            print(f\"The word is {answer}. You win this round!\")\n",
    "                                            player_score[index] = player_score[index] + 500\n",
    "                                            player_dict[f\"player{index+1}\"] = player_score[index] \n",
    "                                            print(player_dict)\n",
    "                                            word_guessed = True\n",
    "                                            continue\n",
    "                                        word = str(input(\"Type 'pass' to end your turn or guess the answer:\")).upper()\n",
    "                                        if word == \"pass\".upper():\n",
    "                                            continue\n",
    "                                        else:\n",
    "                                            if word == answer:\n",
    "                                                print(f\"The word is {answer}. You win this round!\")\n",
    "                                                player_score[index] = player_score[index] + 500\n",
    "                                                player_dict[f\"player{index+1}\"] = player_score[index]\n",
    "                                                print(player_dict)\n",
    "                                                guessed = answer\n",
    "                                                word_guessed = True\n",
    "                                                break\n",
    "                                            else:\n",
    "                                                print(f\"{word} is not the answer.\")\n",
    "                                                continue\n",
    "                                    else:\n",
    "                                        print(f\"{vow} is not in the word.\")\n",
    "                                        print(player_dict)\n",
    "                                        continue\n",
    "                        elif turn == \"pass\".upper():\n",
    "                            continue\n",
    "                \n",
    "                        else:\n",
    "                            if turn == answer:\n",
    "                                print(f\"The word is {answer}. You win this round!\")\n",
    "                                player_score[index] = player_score[index] + 500\n",
    "                                player_dict[f\"player{index+1}\"] = player_score[index]\n",
    "                                print(player_dict)\n",
    "                                guessed = answer\n",
    "                                word_guessed = True\n",
    "                                break\n",
    "                            else:\n",
    "                                print(f\"{turn} is not the answer.\")\n",
    "                                print(player_dict)\n",
    "                                continue\n",
    "                    #If guess isn't in word\n",
    "                    else:\n",
    "                        print(f\"{guess} is not in the word.\")\n",
    "                        print(player_dict)\n",
    "                        continue\n",
    "              \n",
    "        #If player chooses to solve right away\n",
    "\n",
    "            else:\n",
    "                if question == answer:\n",
    "                    print(f\"The word is {answer}. You win this round!\")\n",
    "                    player_score[index] = player_score[index] + 500\n",
    "                    player_dict[f\"player{index+1}\"] = player_score[index]\n",
    "                    print(player_dict)\n",
    "                    guessed = answer\n",
    "                    word_guessed = True\n",
    "                    break\n",
    "                else:\n",
    "                    print(f\"{question} is not the word.\")\n",
    "                    print(player_dict)\n",
    "    return word_guessed                "
   ]
  },
  {
   "cell_type": "code",
   "execution_count": 299,
   "id": "b4abaf12-8bec-4c90-96d8-f7da432819fd",
   "metadata": {},
   "outputs": [],
   "source": [
    "rounds_list = [1,2]\n",
    "def playGame():\n",
    "    print(\"Welcome to Wheel of Fortune!\")\n",
    "    for rounds in rounds_list:\n",
    "        print(f\"Round {rounds}\")\n",
    "        print(hint_list[rounds -1])\n",
    "        print(f\" {' '.join(guessed_list[rounds - 1])}\")\n",
    "        gameRound(answer_list[rounds - 1], guessed_list[rounds - 1])\n",
    "                    "
   ]
  },
  {
   "cell_type": "code",
   "execution_count": 300,
   "id": "d5d31839-787d-476c-ab9a-82fc16f4c1ec",
   "metadata": {},
   "outputs": [
    {
     "name": "stdout",
     "output_type": "stream",
     "text": [
      "Welcome to Wheel of Fortune!\n",
      "Round 1\n",
      "American Sports Cities\n",
      " _ _ _ _ _ _ _ _ _\n",
      "Player 1, your turn.\n",
      "{'player1': 0, 'player2': 0, 'player3': 0}\n"
     ]
    },
    {
     "name": "stdin",
     "output_type": "stream",
     "text": [
      "Attempt to solve the puzzle or type 'spin': nashville\n"
     ]
    },
    {
     "name": "stdout",
     "output_type": "stream",
     "text": [
      "The word is NASHVILLE. You win this round!\n",
      "{'player1': 500, 'player2': 0, 'player3': 0}\n",
      "Round 2\n",
      "African Countries\n",
      " _ _ _ _ _ _ _ _\n",
      "Player 1, your turn.\n",
      "{'player1': 500, 'player2': 0, 'player3': 0}\n"
     ]
    },
    {
     "name": "stdin",
     "output_type": "stream",
     "text": [
      "Attempt to solve the puzzle or type 'spin': djibouti\n"
     ]
    },
    {
     "name": "stdout",
     "output_type": "stream",
     "text": [
      "The word is DJIBOUTI. You win this round!\n",
      "{'player1': 1000, 'player2': 0, 'player3': 0}\n"
     ]
    }
   ],
   "source": [
    "playGame()"
   ]
  },
  {
   "cell_type": "code",
   "execution_count": 301,
   "id": "d131130b-3883-45d7-aac1-8dc94e45db3e",
   "metadata": {},
   "outputs": [
    {
     "name": "stdout",
     "output_type": "stream",
     "text": [
      "Congradulations player1 on winning our game today with a total of $1000! You will now move on to the bonus round!\n"
     ]
    }
   ],
   "source": [
    "list1 = list(player_dict.values())\n",
    "amount = max(list1)\n",
    "index = list1.index(amount)\n",
    "list2 = list(player_dict.keys())\n",
    "player = list2[index]\n",
    "\n",
    "winner = [player, amount]\n",
    "\n",
    "\n",
    "print(f\"Congradulations {winner[0]} on winning our game today with a total of ${winner[1]}! You will now move on to the bonus round!\")"
   ]
  },
  {
   "cell_type": "code",
   "execution_count": 302,
   "id": "a4b4e3db-4815-4887-bf84-d9618d48f931",
   "metadata": {},
   "outputs": [],
   "source": [
    "#Store the word in an answer variable in all upper() case\n",
    "\n",
    "answer3 = \"Galadriel\".upper()\n",
    "\n",
    "#Store hint\n",
    "\n",
    "hint3 = \"Tolkien Characters\"\n",
    "\n",
    "#Store guessed word as a mask of underscores\n",
    "\n",
    "guessed3 = list(\"_\" * len(answer3))"
   ]
  },
  {
   "cell_type": "code",
   "execution_count": 305,
   "id": "034fc46c-a69a-4c6b-aa7f-89f7710aeb75",
   "metadata": {},
   "outputs": [
    {
     "name": "stdout",
     "output_type": "stream",
     "text": [
      "Tolkien Characters\n",
      " _ _ L _ _ R _ E L\n",
      "You will be given the letters R, S, T, L, N, and E for free this round\n",
      "The word so far is _ _ L _ _ R _ E L.\n",
      "Choose three more consenants and one vowel:\n"
     ]
    },
    {
     "name": "stdin",
     "output_type": "stream",
     "text": [
      "First consenant: g\n",
      "Second consenant d\n",
      "Third consenant w\n",
      "Vowel: a\n"
     ]
    },
    {
     "name": "stdout",
     "output_type": "stream",
     "text": [
      "The word so far is G A L A D R _ E L.\n"
     ]
    },
    {
     "name": "stdin",
     "output_type": "stream",
     "text": [
      "You get one guess to solve the puzzle: galadriel\n"
     ]
    },
    {
     "name": "stdout",
     "output_type": "stream",
     "text": [
      "The answer is GALADRIEL! You win the game and $100,000!\n",
      "['player1', 100000]\n"
     ]
    }
   ],
   "source": [
    "print(hint3)\n",
    "print(f\" {' '.join(guessed3)}\")\n",
    "\n",
    "\n",
    "print(\"You will be given the letters R, S, T, L, N, and E for free this round\")\n",
    "\n",
    "free = [\"R\", \"S\", \"T\", \"L\", \"N\", \"E\"]\n",
    "\n",
    "for letter in free:\n",
    "    if letter in answer3:\n",
    "        for counter in range(0, len(answer3)):\n",
    "            if answer3[counter] == letter:\n",
    "                guessed3[counter] = letter\n",
    "\n",
    "\n",
    "print(f\"The word so far is {' '.join(guessed3)}.\")\n",
    "\n",
    "print(\"Choose three more consenants and one vowel:\")\n",
    "\n",
    "guess1 = str(input(\"First consenant:\")).upper()\n",
    "guess2 = str(input(\"Second consenant\")).upper()\n",
    "guess3 = str(input(\"Third consenant\")).upper()\n",
    "guess4 = str(input(\"Vowel:\")).upper()\n",
    "\n",
    "guesses = [guess1, guess2, guess3, guess4]\n",
    "\n",
    "for letter in guesses:\n",
    "     if letter in answer3:\n",
    "        for counter in range(0, len(answer3)):\n",
    "            if answer3[counter] == letter:\n",
    "                guessed3[counter] = letter\n",
    "\n",
    "\n",
    "print(f\"The word so far is {' '.join(guessed3)}.\")\n",
    "\n",
    "final = str(input(\"You get one guess to solve the puzzle:\")).upper()\n",
    "\n",
    "if final == answer3:\n",
    "    print(f\"The answer is {answer3}! You win the game and $100,000!\")\n",
    "    winner[1] = 100000\n",
    "    print(winner)\n",
    "else:\n",
    "    print(f\"I'm sorry, your guess of {final} was incorrect. The correct response was {answer}. However, you still walk away with your original 2 round total of ${winner[1]}!\")"
   ]
  },
  {
   "cell_type": "code",
   "execution_count": null,
   "id": "018853af-b957-4376-ae1a-ba4a46dfd5d8",
   "metadata": {},
   "outputs": [],
   "source": []
  }
 ],
 "metadata": {
  "kernelspec": {
   "display_name": "Python 3",
   "language": "python",
   "name": "python3"
  },
  "language_info": {
   "codemirror_mode": {
    "name": "ipython",
    "version": 3
   },
   "file_extension": ".py",
   "mimetype": "text/x-python",
   "name": "python",
   "nbconvert_exporter": "python",
   "pygments_lexer": "ipython3",
   "version": "3.8.8"
  }
 },
 "nbformat": 4,
 "nbformat_minor": 5
}
